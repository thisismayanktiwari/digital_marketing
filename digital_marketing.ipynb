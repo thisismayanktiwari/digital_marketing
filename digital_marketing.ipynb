{
 "cells": [
  {
   "cell_type": "markdown",
   "id": "accepted-attendance",
   "metadata": {},
   "source": [
    "# Digital Marketing"
   ]
  },
  {
   "cell_type": "code",
   "execution_count": 1,
   "id": "appropriate-inspiration",
   "metadata": {},
   "outputs": [],
   "source": [
    "# import some packages\n",
    "\n",
    "import numpy as np\n",
    "import pandas as pd\n",
    "import seaborn as sns\n",
    "\n",
    "from scipy.optimize import linprog\n",
    "\n",
    "# change some settings\n",
    "\n",
    "import sys\n",
    "\n",
    "np.set_printoptions(precision=2, formatter={'float_kind':'{:.2f}'.format})\n",
    "pd.set_option('display.float_format', '{:.2f}'.format)"
   ]
  },
  {
   "cell_type": "markdown",
   "id": "posted-payment",
   "metadata": {},
   "source": [
    "We need a package to handle objectives and constraints in the assignment of search queries to advertisers. We will use the `optimize` module in the [scipy](https://www.scipy.org/) package."
   ]
  },
  {
   "cell_type": "markdown",
   "id": "illegal-protection",
   "metadata": {},
   "source": [
    "### Overview\n",
    "\n",
    "Suppose we are a publisher matching advertisers and queries on a search engine. We have three telecommunication companies: \n",
    "\n",
    "- AT&T\n",
    "- T-Mobile \n",
    "- Verizon \n",
    "\n",
    "We have three queries for the search engine:\n",
    "\n",
    "- 4G LTE\n",
    "- largest LTE\n",
    "- best LTE network\n",
    "\n",
    "We will display one advertisement per query on the search engine. For each query, we need to assign some number of impressions to the three companies. After the advertisers bid on the queries in the auction, we can determine the objective and constraints of the assignment problem:\n",
    "\n",
    "- estimated click-through-rate\n",
    "- forecasted number of queries \n",
    "- budget of adverstisers\n",
    "- bids of adverstisers on queries\n",
    "\n",
    "The objective is the expected revenue from the assignments. We calculate the objective from the revenue-per-impression from the three advertisers across the three queries. \n",
    "\n",
    "$$\\sum_{\\text{queries, companies}} \\left(\\text{expected revenue-per-impression for company-query pair}\\right) \\times \\left(\\text{number of impressions assigned to company-query pair}\\right)$$\n",
    "\n",
    "Here we sum over the company-query pairs like Verizon-\"best LTE network\". We want to maximize the objective subject to two constraints:    \n",
    "\n",
    "- the advertising fee does not exceed the company budget\n",
    "- the number of queries assigned to the advertisers does not exceed the forecast \n",
    "\n",
    "Note that we have pay-per-click compensation with fees depending on the auction bids. So we can figure out the objective from \n",
    "\n",
    "- estimated click-through-rate\n",
    "- bids of adverstisers on queries\n",
    "\n",
    "Suppose we want to determine the expected revenue-per-impression of Verizon for the query \"best LTE network.\" Assume the bid is \\$25 and the esimated click-through-rate is 0.2.\n",
    "\n",
    "<img src=\"image.PNG\" width=\"800\" style=\"float:center\">\n",
    "\n",
    "If ten users of the search engine make a query for \"best LTE network\", then we might decide to assign ten impressions to Verizon. \n",
    "\n",
    "Remember that the click-through-rate is number of clicks-per-impression of the advertisement. Since the click-through-rate of Verizon for the query \"best LTE network\" is 0.2, we expect two of ten users to click the advertisement. We can think of the bid as the price-per-click. Since the bid in the auction was $\\$25$, Verizon has to pay us $\\$50$. \n",
    "\n",
    "So we anticipate Verizon will pay us $\\$50$ for ten impressions meaning $\\$5$ for one impression. Note that $\\$5$ is $\\$25 \\cdot 0.2$. We learn that we can calculate the expected revenue-per-impression as the product of click-through-rate and bid. \n",
    "\n",
    "\n",
    "\n",
    "We have four datasets corresponding to the four components of the problem."
   ]
  },
  {
   "cell_type": "markdown",
   "id": "italian-policy",
   "metadata": {},
   "source": [
    "### Importing datasets."
   ]
  },
  {
   "cell_type": "code",
   "execution_count": 2,
   "id": "twenty-fisher",
   "metadata": {},
   "outputs": [
    {
     "data": {
      "text/html": [
       "<div>\n",
       "<style scoped>\n",
       "    .dataframe tbody tr th:only-of-type {\n",
       "        vertical-align: middle;\n",
       "    }\n",
       "\n",
       "    .dataframe tbody tr th {\n",
       "        vertical-align: top;\n",
       "    }\n",
       "\n",
       "    .dataframe thead th {\n",
       "        text-align: right;\n",
       "    }\n",
       "</style>\n",
       "<table border=\"1\" class=\"dataframe\">\n",
       "  <thead>\n",
       "    <tr style=\"text-align: right;\">\n",
       "      <th></th>\n",
       "      <th>4G LTE</th>\n",
       "      <th>largest LTE</th>\n",
       "      <th>best LTE network</th>\n",
       "    </tr>\n",
       "  </thead>\n",
       "  <tbody>\n",
       "    <tr>\n",
       "      <th>AT&amp;T</th>\n",
       "      <td>0.10</td>\n",
       "      <td>0.10</td>\n",
       "      <td>0.08</td>\n",
       "    </tr>\n",
       "    <tr>\n",
       "      <th>T-Mobile</th>\n",
       "      <td>0.10</td>\n",
       "      <td>0.15</td>\n",
       "      <td>0.10</td>\n",
       "    </tr>\n",
       "    <tr>\n",
       "      <th>Verizon</th>\n",
       "      <td>0.10</td>\n",
       "      <td>0.20</td>\n",
       "      <td>0.20</td>\n",
       "    </tr>\n",
       "  </tbody>\n",
       "</table>\n",
       "</div>"
      ],
      "text/plain": [
       "          4G LTE  largest LTE  best LTE network\n",
       "AT&T        0.10         0.10              0.08\n",
       "T-Mobile    0.10         0.15              0.10\n",
       "Verizon     0.10         0.20              0.20"
      ]
     },
     "execution_count": 2,
     "metadata": {},
     "output_type": "execute_result"
    }
   ],
   "source": [
    "ctr = pd.read_csv(\"ctr.csv\", index_col=0)\n",
    "ctr"
   ]
  },
  {
   "cell_type": "markdown",
   "id": "running-resort",
   "metadata": {},
   "source": [
    "The table `ctr` contains the estimated click-through-rates for the three companies across the three queries."
   ]
  },
  {
   "cell_type": "code",
   "execution_count": 3,
   "id": "tutorial-heaven",
   "metadata": {},
   "outputs": [
    {
     "data": {
      "text/html": [
       "<div>\n",
       "<style scoped>\n",
       "    .dataframe tbody tr th:only-of-type {\n",
       "        vertical-align: middle;\n",
       "    }\n",
       "\n",
       "    .dataframe tbody tr th {\n",
       "        vertical-align: top;\n",
       "    }\n",
       "\n",
       "    .dataframe thead th {\n",
       "        text-align: right;\n",
       "    }\n",
       "</style>\n",
       "<table border=\"1\" class=\"dataframe\">\n",
       "  <thead>\n",
       "    <tr style=\"text-align: right;\">\n",
       "      <th></th>\n",
       "      <th>Estimated Number Queries</th>\n",
       "    </tr>\n",
       "  </thead>\n",
       "  <tbody>\n",
       "    <tr>\n",
       "      <th>4G LTE</th>\n",
       "      <td>140</td>\n",
       "    </tr>\n",
       "    <tr>\n",
       "      <th>largest LTE</th>\n",
       "      <td>80</td>\n",
       "    </tr>\n",
       "    <tr>\n",
       "      <th>best LTE network</th>\n",
       "      <td>80</td>\n",
       "    </tr>\n",
       "  </tbody>\n",
       "</table>\n",
       "</div>"
      ],
      "text/plain": [
       "                  Estimated Number Queries\n",
       "4G LTE                                 140\n",
       "largest LTE                             80\n",
       "best LTE network                        80"
      ]
     },
     "execution_count": 3,
     "metadata": {},
     "output_type": "execute_result"
    }
   ],
   "source": [
    "number_queries = pd.read_csv(\"number_queries.csv\", index_col=0)\n",
    "number_queries"
   ]
  },
  {
   "cell_type": "markdown",
   "id": "legislative-tutorial",
   "metadata": {},
   "source": [
    "The table `number_queries` contains the forecasted number of impressions of the three queries."
   ]
  },
  {
   "cell_type": "code",
   "execution_count": 4,
   "id": "subjective-prayer",
   "metadata": {},
   "outputs": [
    {
     "data": {
      "text/html": [
       "<div>\n",
       "<style scoped>\n",
       "    .dataframe tbody tr th:only-of-type {\n",
       "        vertical-align: middle;\n",
       "    }\n",
       "\n",
       "    .dataframe tbody tr th {\n",
       "        vertical-align: top;\n",
       "    }\n",
       "\n",
       "    .dataframe thead th {\n",
       "        text-align: right;\n",
       "    }\n",
       "</style>\n",
       "<table border=\"1\" class=\"dataframe\">\n",
       "  <thead>\n",
       "    <tr style=\"text-align: right;\">\n",
       "      <th></th>\n",
       "      <th>Budget</th>\n",
       "    </tr>\n",
       "  </thead>\n",
       "  <tbody>\n",
       "    <tr>\n",
       "      <th>AT&amp;T</th>\n",
       "      <td>170</td>\n",
       "    </tr>\n",
       "    <tr>\n",
       "      <th>T-Mobile</th>\n",
       "      <td>100</td>\n",
       "    </tr>\n",
       "    <tr>\n",
       "      <th>Verizon</th>\n",
       "      <td>160</td>\n",
       "    </tr>\n",
       "  </tbody>\n",
       "</table>\n",
       "</div>"
      ],
      "text/plain": [
       "          Budget\n",
       "AT&T         170\n",
       "T-Mobile     100\n",
       "Verizon      160"
      ]
     },
     "execution_count": 4,
     "metadata": {},
     "output_type": "execute_result"
    }
   ],
   "source": [
    "budget = pd.read_csv(\"budget.csv\", index_col=0)\n",
    "budget"
   ]
  },
  {
   "cell_type": "markdown",
   "id": "planned-antibody",
   "metadata": {},
   "source": [
    "The table `budget` contains the budgets of the three companies"
   ]
  },
  {
   "cell_type": "code",
   "execution_count": 5,
   "id": "growing-division",
   "metadata": {},
   "outputs": [
    {
     "data": {
      "text/html": [
       "<div>\n",
       "<style scoped>\n",
       "    .dataframe tbody tr th:only-of-type {\n",
       "        vertical-align: middle;\n",
       "    }\n",
       "\n",
       "    .dataframe tbody tr th {\n",
       "        vertical-align: top;\n",
       "    }\n",
       "\n",
       "    .dataframe thead th {\n",
       "        text-align: right;\n",
       "    }\n",
       "</style>\n",
       "<table border=\"1\" class=\"dataframe\">\n",
       "  <thead>\n",
       "    <tr style=\"text-align: right;\">\n",
       "      <th></th>\n",
       "      <th>4G LTE</th>\n",
       "      <th>largest LTE</th>\n",
       "      <th>best LTE network</th>\n",
       "    </tr>\n",
       "  </thead>\n",
       "  <tbody>\n",
       "    <tr>\n",
       "      <th>AT&amp;T</th>\n",
       "      <td>5</td>\n",
       "      <td>5</td>\n",
       "      <td>20</td>\n",
       "    </tr>\n",
       "    <tr>\n",
       "      <th>T-Mobile</th>\n",
       "      <td>10</td>\n",
       "      <td>5</td>\n",
       "      <td>20</td>\n",
       "    </tr>\n",
       "    <tr>\n",
       "      <th>Verizon</th>\n",
       "      <td>5</td>\n",
       "      <td>20</td>\n",
       "      <td>25</td>\n",
       "    </tr>\n",
       "  </tbody>\n",
       "</table>\n",
       "</div>"
      ],
      "text/plain": [
       "          4G LTE  largest LTE  best LTE network\n",
       "AT&T           5            5                20\n",
       "T-Mobile      10            5                20\n",
       "Verizon        5           20                25"
      ]
     },
     "execution_count": 5,
     "metadata": {},
     "output_type": "execute_result"
    }
   ],
   "source": [
    "bids = pd.read_csv(\"bids.csv\", index_col=0)\n",
    "bids"
   ]
  },
  {
   "cell_type": "markdown",
   "id": "refined-amount",
   "metadata": {},
   "source": [
    "The table `bids` contains the bids from the advertisers from the auction. \n",
    "\n",
    "Calculating a table `expect_revenue_per_impression` with rows AT&T, T-Mobile, Verizon and columns '4G LTE', 'largest LTE', 'best LTE network' containing the expected revenue-per-impression for the nine company-query pairs."
   ]
  },
  {
   "cell_type": "code",
   "execution_count": 6,
   "id": "solar-receptor",
   "metadata": {},
   "outputs": [],
   "source": [
    "expected_revenue_per_impression = bids*ctr"
   ]
  },
  {
   "cell_type": "markdown",
   "id": "steady-brazil",
   "metadata": {},
   "source": [
    "We can study different strategies for the assignment problem. The __*greedy strategy*__ assigns the largest number of impressions to the highest bidders in the auction. Working from the highest bid to the lowest bid, we can iteratively assign impressions to company-query pairs."
   ]
  },
  {
   "cell_type": "markdown",
   "id": "bronze-domestic",
   "metadata": {},
   "source": [
    "We would start with the pair Verizon-\"best LTE network\" because the expected revenue-per-click of $\\$25$ is largest. If we assign 32 impressions to the pair, then we exhaust the Verizon budget of $\\$160$. The second highest expected revenue-per-click is the pair Verizon-\"largest LTE\". Since we have exhausted the budget of Verizon, we move to third highest pair T-Mobile-\"best LTE network\". We would assign 48 impressions to the pair to exhaust the forecasted number of queries of \"best LTE network.\" Continuing the greedy strategy we obtain the assignments in the table `greedy`."
   ]
  },
  {
   "cell_type": "code",
   "execution_count": 7,
   "id": "metric-money",
   "metadata": {},
   "outputs": [
    {
     "data": {
      "text/html": [
       "<div>\n",
       "<style scoped>\n",
       "    .dataframe tbody tr th:only-of-type {\n",
       "        vertical-align: middle;\n",
       "    }\n",
       "\n",
       "    .dataframe tbody tr th {\n",
       "        vertical-align: top;\n",
       "    }\n",
       "\n",
       "    .dataframe thead th {\n",
       "        text-align: right;\n",
       "    }\n",
       "</style>\n",
       "<table border=\"1\" class=\"dataframe\">\n",
       "  <thead>\n",
       "    <tr style=\"text-align: right;\">\n",
       "      <th></th>\n",
       "      <th>4G LTE</th>\n",
       "      <th>largest LTE</th>\n",
       "      <th>best LTE network</th>\n",
       "    </tr>\n",
       "  </thead>\n",
       "  <tbody>\n",
       "    <tr>\n",
       "      <th>AT&amp;T</th>\n",
       "      <td>136</td>\n",
       "      <td>80</td>\n",
       "      <td>0</td>\n",
       "    </tr>\n",
       "    <tr>\n",
       "      <th>T-Mobile</th>\n",
       "      <td>4</td>\n",
       "      <td>0</td>\n",
       "      <td>48</td>\n",
       "    </tr>\n",
       "    <tr>\n",
       "      <th>Verizon</th>\n",
       "      <td>0</td>\n",
       "      <td>0</td>\n",
       "      <td>32</td>\n",
       "    </tr>\n",
       "  </tbody>\n",
       "</table>\n",
       "</div>"
      ],
      "text/plain": [
       "          4G LTE  largest LTE  best LTE network\n",
       "AT&T         136           80                 0\n",
       "T-Mobile       4            0                48\n",
       "Verizon        0            0                32"
      ]
     },
     "execution_count": 7,
     "metadata": {},
     "output_type": "execute_result"
    }
   ],
   "source": [
    "greedy = pd.read_csv(\"greedy.csv\", index_col = 0)\n",
    "greedy"
   ]
  },
  {
   "cell_type": "code",
   "execution_count": 8,
   "id": "psychological-shark",
   "metadata": {},
   "outputs": [
    {
     "data": {
      "text/plain": [
       "368.0"
      ]
     },
     "execution_count": 8,
     "metadata": {},
     "output_type": "execute_result"
    }
   ],
   "source": [
    "expected_revenue_greedy = np.sum(greedy.values*expected_revenue_per_impression.values)\n",
    "expected_revenue_greedy"
   ]
  },
  {
   "cell_type": "markdown",
   "id": "hairy-forth",
   "metadata": {},
   "source": [
    "Therefore the expected revenue from __*greedy strategy*__ is $\\$368$."
   ]
  },
  {
   "cell_type": "markdown",
   "id": "liked-judges",
   "metadata": {},
   "source": [
    "___"
   ]
  },
  {
   "cell_type": "markdown",
   "id": "coordinate-naples",
   "metadata": {},
   "source": [
    "Now, we will use the `scipy` package to determine the assignment that maximizes the objective to the constraints. Let's call this **_optimal strategy_**"
   ]
  },
  {
   "cell_type": "code",
   "execution_count": 9,
   "id": "interior-imaging",
   "metadata": {},
   "outputs": [
    {
     "data": {
      "text/plain": [
       "array([0.50, 0.50, 1.60, 1.00, 0.75, 2.00, 0.50, 4.00, 5.00])"
      ]
     },
     "execution_count": 9,
     "metadata": {},
     "output_type": "execute_result"
    }
   ],
   "source": [
    "objective = expected_revenue_per_impression.values.flatten()\n",
    "objective"
   ]
  },
  {
   "cell_type": "markdown",
   "id": "dietary-portugal",
   "metadata": {},
   "source": [
    "We change the shape of the values in the `expected_revenue_per_impression` table to (1,9)."
   ]
  },
  {
   "cell_type": "code",
   "execution_count": 10,
   "id": "australian-point",
   "metadata": {},
   "outputs": [
    {
     "data": {
      "text/plain": [
       "array([[1.00, 0.00, 0.00, 1.00, 0.00, 0.00, 1.00, 0.00, 0.00],\n",
       "       [0.00, 1.00, 0.00, 0.00, 1.00, 0.00, 0.00, 1.00, 0.00],\n",
       "       [0.00, 0.00, 1.00, 0.00, 0.00, 1.00, 0.00, 0.00, 1.00]])"
      ]
     },
     "execution_count": 10,
     "metadata": {},
     "output_type": "execute_result"
    }
   ],
   "source": [
    "number_queries_constraints = np.vstack((np.eye(3), np.eye(3), np.eye(3))).T\n",
    "number_queries_constraints"
   ]
  },
  {
   "cell_type": "markdown",
   "id": "appreciated-penalty",
   "metadata": {},
   "source": [
    "We encode the constraints for the forecasted number of queries in the array `number_queries_constraints`."
   ]
  },
  {
   "cell_type": "code",
   "execution_count": 11,
   "id": "about-feeding",
   "metadata": {},
   "outputs": [
    {
     "data": {
      "text/plain": [
       "array([[0.50, 0.50, 1.60, 0.00, 0.00, 0.00, 0.00, 0.00, 0.00],\n",
       "       [0.00, 0.00, 0.00, 1.00, 0.75, 2.00, 0.00, 0.00, 0.00],\n",
       "       [0.00, 0.00, 0.00, 0.00, 0.00, 0.00, 0.50, 4.00, 5.00]])"
      ]
     },
     "execution_count": 11,
     "metadata": {},
     "output_type": "execute_result"
    }
   ],
   "source": [
    "budget_constraint = np.vstack((np.pad(objective[:3], (0,6), \"constant\"), np.pad(objective[3:6], (3,3), \"constant\"), np.pad(objective[6:], (6,0), \"constant\")))\n",
    "budget_constraint"
   ]
  },
  {
   "cell_type": "markdown",
   "id": "biblical-noise",
   "metadata": {},
   "source": [
    "We encode the constraints for the budgets in the array `budget_constraints`."
   ]
  },
  {
   "cell_type": "code",
   "execution_count": 12,
   "id": "southwest-cleanup",
   "metadata": {},
   "outputs": [
    {
     "data": {
      "text/plain": [
       "array([[0.50, 0.50, 1.60, 0.00, 0.00, 0.00, 0.00, 0.00, 0.00],\n",
       "       [0.00, 0.00, 0.00, 1.00, 0.75, 2.00, 0.00, 0.00, 0.00],\n",
       "       [0.00, 0.00, 0.00, 0.00, 0.00, 0.00, 0.50, 4.00, 5.00],\n",
       "       [1.00, 0.00, 0.00, 1.00, 0.00, 0.00, 1.00, 0.00, 0.00],\n",
       "       [0.00, 1.00, 0.00, 0.00, 1.00, 0.00, 0.00, 1.00, 0.00],\n",
       "       [0.00, 0.00, 1.00, 0.00, 0.00, 1.00, 0.00, 0.00, 1.00]])"
      ]
     },
     "execution_count": 12,
     "metadata": {},
     "output_type": "execute_result"
    }
   ],
   "source": [
    "constraints = np.vstack((budget_constraint, number_queries_constraints))\n",
    "constraints"
   ]
  },
  {
   "cell_type": "markdown",
   "id": "bottom-spokesman",
   "metadata": {},
   "source": [
    "We can combine the six constraints into the array `constraints`."
   ]
  },
  {
   "cell_type": "code",
   "execution_count": 13,
   "id": "sound-municipality",
   "metadata": {},
   "outputs": [
    {
     "data": {
      "text/plain": [
       "array([170, 100, 160, 140,  80,  80])"
      ]
     },
     "execution_count": 13,
     "metadata": {},
     "output_type": "execute_result"
    }
   ],
   "source": [
    "bounds = np.hstack((budget[\"Budget\"].values, number_queries[\"Estimated Number Queries\"].values))\n",
    "bounds"
   ]
  },
  {
   "cell_type": "markdown",
   "id": "divine-necessity",
   "metadata": {},
   "source": [
    "Each constraint has a upper bound corresponding to either budget or number of queries. We specify the bounds in the array `bounds`."
   ]
  },
  {
   "cell_type": "code",
   "execution_count": 14,
   "id": "indonesian-sailing",
   "metadata": {},
   "outputs": [
    {
     "data": {
      "text/plain": [
       "[(0, None),\n",
       " (0, None),\n",
       " (0, None),\n",
       " (0, None),\n",
       " (0, None),\n",
       " (0, None),\n",
       " (0, None),\n",
       " (0, None),\n",
       " (0, None)]"
      ]
     },
     "execution_count": 14,
     "metadata": {},
     "output_type": "execute_result"
    }
   ],
   "source": [
    "positive_bounds = 9 * [(0, None)]\n",
    "positive_bounds"
   ]
  },
  {
   "cell_type": "markdown",
   "id": "english-donna",
   "metadata": {},
   "source": [
    "Moreover we need to specify that the unknown quantities representing the assignments are not negative. We use the list `positive_bounds`."
   ]
  },
  {
   "cell_type": "code",
   "execution_count": 15,
   "id": "imperial-active",
   "metadata": {},
   "outputs": [],
   "source": [
    "solution = linprog((-1) * objective, A_ub = constraints, b_ub = bounds, bounds=positive_bounds)"
   ]
  },
  {
   "cell_type": "markdown",
   "id": "dressed-touch",
   "metadata": {},
   "source": [
    "Having translated the problem into arrays for the `scipy` package, we can use the `linprog` function in the `optimize` module to determine the solution."
   ]
  },
  {
   "cell_type": "code",
   "execution_count": 16,
   "id": "sought-floating",
   "metadata": {},
   "outputs": [
    {
     "data": {
      "text/html": [
       "<div>\n",
       "<style scoped>\n",
       "    .dataframe tbody tr th:only-of-type {\n",
       "        vertical-align: middle;\n",
       "    }\n",
       "\n",
       "    .dataframe tbody tr th {\n",
       "        vertical-align: top;\n",
       "    }\n",
       "\n",
       "    .dataframe thead th {\n",
       "        text-align: right;\n",
       "    }\n",
       "</style>\n",
       "<table border=\"1\" class=\"dataframe\">\n",
       "  <thead>\n",
       "    <tr style=\"text-align: right;\">\n",
       "      <th></th>\n",
       "      <th>4G LTE</th>\n",
       "      <th>largest LTE</th>\n",
       "      <th>best LTE network</th>\n",
       "    </tr>\n",
       "  </thead>\n",
       "  <tbody>\n",
       "    <tr>\n",
       "      <th>AT&amp;T</th>\n",
       "      <td>40.00</td>\n",
       "      <td>40.00</td>\n",
       "      <td>80.00</td>\n",
       "    </tr>\n",
       "    <tr>\n",
       "      <th>T-Mobile</th>\n",
       "      <td>100.00</td>\n",
       "      <td>0.00</td>\n",
       "      <td>0.00</td>\n",
       "    </tr>\n",
       "    <tr>\n",
       "      <th>Verizon</th>\n",
       "      <td>0.00</td>\n",
       "      <td>40.00</td>\n",
       "      <td>0.00</td>\n",
       "    </tr>\n",
       "  </tbody>\n",
       "</table>\n",
       "</div>"
      ],
      "text/plain": [
       "          4G LTE  largest LTE  best LTE network\n",
       "AT&T       40.00        40.00             80.00\n",
       "T-Mobile  100.00         0.00              0.00\n",
       "Verizon     0.00        40.00              0.00"
      ]
     },
     "execution_count": 16,
     "metadata": {},
     "output_type": "execute_result"
    }
   ],
   "source": [
    "optimal = solution[\"x\"].reshape((3,3))\n",
    "optimal = pd.DataFrame(data = optimal, columns = bids.columns, index = bids.index)\n",
    "optimal"
   ]
  },
  {
   "cell_type": "code",
   "execution_count": 17,
   "id": "superior-legislation",
   "metadata": {},
   "outputs": [
    {
     "data": {
      "text/plain": [
       "427.9999983172861"
      ]
     },
     "execution_count": 17,
     "metadata": {},
     "output_type": "execute_result"
    }
   ],
   "source": [
    "expected_revenue_optimal = np.sum(optimal.values*expected_revenue_per_impression.values)\n",
    "expected_revenue_optimal"
   ]
  },
  {
   "cell_type": "markdown",
   "id": "former-credit",
   "metadata": {},
   "source": [
    "Therefore, the expected revenue for the **_optimal strategy_** is $\\$428$"
   ]
  },
  {
   "cell_type": "code",
   "execution_count": 18,
   "id": "settled-guitar",
   "metadata": {},
   "outputs": [
    {
     "data": {
      "image/png": "[encoded data removed]",
      "text/plain": [
       "<Figure size 432x288 with 2 Axes>"
      ]
     },
     "metadata": {
      "needs_background": "light"
     },
     "output_type": "display_data"
    }
   ],
   "source": [
    "sns.heatmap(data = (optimal - greedy).values, cmap = \"YlGnBu\", linewidths=.5, annot = True, fmt = \".1f\", center = 0, xticklabels=optimal.columns, yticklabels=optimal.index);"
   ]
  },
  {
   "cell_type": "markdown",
   "id": "metric-letters",
   "metadata": {},
   "source": [
    "We compared the two strategies using a heat map. The darker areas of the heatmap shows where the optimal strategy is higher than the greedy strategy and lighter areas show where the greedy strategy is higher than the optimal strategy."
   ]
  },
  {
   "cell_type": "code",
   "execution_count": 19,
   "id": "amateur-shield",
   "metadata": {},
   "outputs": [
    {
     "data": {
      "text/plain": [
       "16.304347826086957"
      ]
     },
     "execution_count": 19,
     "metadata": {},
     "output_type": "execute_result"
    }
   ],
   "source": [
    "((428-368)/368)*100"
   ]
  },
  {
   "cell_type": "markdown",
   "id": "above-graph",
   "metadata": {},
   "source": [
    "We see a **16%** improvement in expected revenue by using the **_optimal strategy_**."
   ]
  }
 ],
 "metadata": {
  "kernelspec": {
   "display_name": "Python 3",
   "language": "python",
   "name": "python3"
  },
  "language_info": {
   "codemirror_mode": {
    "name": "ipython",
    "version": 3
   },
   "file_extension": ".py",
   "mimetype": "text/x-python",
   "name": "python",
   "nbconvert_exporter": "python",
   "pygments_lexer": "ipython3",
   "version": "3.8.5"
  }
 },
 "nbformat": 4,
 "nbformat_minor": 5
}
